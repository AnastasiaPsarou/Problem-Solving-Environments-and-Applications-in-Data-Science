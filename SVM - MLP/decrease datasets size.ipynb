{
 "cells": [
  {
   "cell_type": "code",
   "execution_count": 1,
   "id": "baf6db9c",
   "metadata": {},
   "outputs": [
    {
     "name": "stderr",
     "output_type": "stream",
     "text": [
      "C:\\Users\\chris\\anaconda4\\lib\\site-packages\\numpy\\_distributor_init.py:30: UserWarning: loaded more than 1 DLL from .libs:\n",
      "C:\\Users\\chris\\anaconda4\\lib\\site-packages\\numpy\\.libs\\libopenblas.GK7GX5KEQ4F6UYO3P26ULGBQYHGQO7J4.gfortran-win_amd64.dll\n",
      "C:\\Users\\chris\\anaconda4\\lib\\site-packages\\numpy\\.libs\\libopenblas.xwydx2ikjw2nmtwsfyngfuwkqu3lytcz.gfortran-win_amd64.dll\n",
      "  warnings.warn(\"loaded more than 1 DLL from .libs:\"\n"
     ]
    }
   ],
   "source": [
    "import pandas as pd\n",
    "low_memory=False"
   ]
  },
  {
   "cell_type": "code",
   "execution_count": 2,
   "id": "56c2ca54",
   "metadata": {},
   "outputs": [
    {
     "name": "stderr",
     "output_type": "stream",
     "text": [
      "C:\\Users\\chris\\AppData\\Local\\Temp\\ipykernel_14024\\2675829665.py:1: DtypeWarning: Columns (85) have mixed types. Specify dtype option on import or set low_memory=False.\n",
      "  df = pd.read_csv('LDAP.csv')[0:20000]\n"
     ]
    }
   ],
   "source": [
    "#done\n",
    "df = pd.read_csv('LDAP.csv')[0:20000]\n",
    "del df['Unnamed: 0']\n",
    "del df['Flow ID']\n",
    "del df['Active Mean']\n",
    "del df[' Active Std']\n",
    "del df[' Active Max']\n",
    "del df[' Active Min']\n",
    "del df[' Source IP']\n",
    "del df[' Destination IP']\n",
    "del df['Idle Mean']\n",
    "del df[' Idle Std']\n",
    "del df[' Idle Max']\n",
    "del df[' Idle Min']\n",
    "del df[' Timestamp']\n",
    "df.to_csv('LDAP1.csv', index=False) "
   ]
  },
  {
   "cell_type": "code",
   "execution_count": 2,
   "id": "05a1a057",
   "metadata": {},
   "outputs": [
    {
     "name": "stderr",
     "output_type": "stream",
     "text": [
      "C:\\Users\\chris\\AppData\\Local\\Temp\\ipykernel_3184\\1502820323.py:1: DtypeWarning: Columns (85) have mixed types. Specify dtype option on import or set low_memory=False.\n",
      "  df = pd.read_csv('MSSQL.csv')[0:20000]\n"
     ]
    }
   ],
   "source": [
    "#done\n",
    "df = pd.read_csv('MSSQL.csv')[0:20000]\n",
    "del df['Unnamed: 0']\n",
    "del df['Flow ID']\n",
    "del df['Active Mean']\n",
    "del df[' Active Std']\n",
    "del df[' Active Max']\n",
    "del df[' Active Min']\n",
    "del df['Idle Mean']\n",
    "del df[' Idle Std']\n",
    "del df[' Idle Max']\n",
    "del df[' Idle Min']\n",
    "del df[' Timestamp']\n",
    "del df[' Source IP']\n",
    "del df[' Destination IP']\n",
    "df.to_csv('MSSQL1.csv', index=False) "
   ]
  },
  {
   "cell_type": "code",
   "execution_count": 2,
   "id": "5eb749bc",
   "metadata": {},
   "outputs": [
    {
     "name": "stderr",
     "output_type": "stream",
     "text": [
      "C:\\Users\\chris\\AppData\\Local\\Temp\\ipykernel_13620\\633054817.py:1: DtypeWarning: Columns (85) have mixed types. Specify dtype option on import or set low_memory=False.\n",
      "  df = pd.read_csv('NetBIOS.csv')[0:20000]\n"
     ]
    }
   ],
   "source": [
    "#done\n",
    "df = pd.read_csv('NetBIOS.csv')[0:20000]\n",
    "del df['Unnamed: 0']\n",
    "del df['Flow ID']\n",
    "del df['Active Mean']\n",
    "del df[' Active Std']\n",
    "del df[' Active Max']\n",
    "del df[' Active Min']\n",
    "del df['Idle Mean']\n",
    "del df[' Idle Std']\n",
    "del df[' Idle Max']\n",
    "del df[' Idle Min']\n",
    "del df[' Timestamp']\n",
    "del df[' Source IP']\n",
    "del df[' Destination IP']\n",
    "df.to_csv('NetBIOS1.csv', index=False) "
   ]
  },
  {
   "cell_type": "code",
   "execution_count": 3,
   "id": "53ac1621",
   "metadata": {},
   "outputs": [
    {
     "name": "stderr",
     "output_type": "stream",
     "text": [
      "C:\\Users\\chris\\AppData\\Local\\Temp\\ipykernel_13620\\1913495128.py:1: DtypeWarning: Columns (85) have mixed types. Specify dtype option on import or set low_memory=False.\n",
      "  df = pd.read_csv('Portmap.csv')[0:20000]\n"
     ]
    }
   ],
   "source": [
    "#done\n",
    "df = pd.read_csv('Portmap.csv')[0:20000]\n",
    "del df['Unnamed: 0']\n",
    "del df['Flow ID']\n",
    "del df['Active Mean']\n",
    "del df[' Active Std']\n",
    "del df[' Active Max']\n",
    "del df[' Active Min']\n",
    "del df['Idle Mean']\n",
    "del df[' Idle Std']\n",
    "del df[' Idle Max']\n",
    "del df[' Idle Min']\n",
    "del df[' Timestamp']\n",
    "del df[' Source IP']\n",
    "del df[' Destination IP']\n",
    "df.to_csv('Portmap1.csv', index=False) "
   ]
  },
  {
   "cell_type": "code",
   "execution_count": 4,
   "id": "59a89454",
   "metadata": {},
   "outputs": [
    {
     "name": "stderr",
     "output_type": "stream",
     "text": [
      "C:\\Users\\chris\\AppData\\Local\\Temp\\ipykernel_13620\\2090436461.py:1: DtypeWarning: Columns (85) have mixed types. Specify dtype option on import or set low_memory=False.\n",
      "  df = pd.read_csv('Syn.csv')[0:20000]\n"
     ]
    }
   ],
   "source": [
    "#done\n",
    "df = pd.read_csv('Syn.csv')[0:20000]\n",
    "del df['Unnamed: 0']\n",
    "del df['Flow ID']\n",
    "del df['Active Mean']\n",
    "del df[' Active Std']\n",
    "del df[' Active Max']\n",
    "del df[' Active Min']\n",
    "del df['Idle Mean']\n",
    "del df[' Idle Std']\n",
    "del df[' Idle Max']\n",
    "del df[' Idle Min']\n",
    "del df[' Timestamp']\n",
    "del df[' Source IP']\n",
    "del df[' Destination IP']\n",
    "df.to_csv('Syn1.csv', index=False) "
   ]
  },
  {
   "cell_type": "code",
   "execution_count": 2,
   "id": "9a15aaec",
   "metadata": {},
   "outputs": [
    {
     "name": "stderr",
     "output_type": "stream",
     "text": [
      "C:\\Users\\chris\\AppData\\Local\\Temp\\ipykernel_3452\\459282275.py:1: DtypeWarning: Columns (85) have mixed types. Specify dtype option on import or set low_memory=False.\n",
      "  df = pd.read_csv('UDP.csv')[0:20000]\n"
     ]
    }
   ],
   "source": [
    "#done\n",
    "df = pd.read_csv('UDP.csv')[0:20000]\n",
    "del df['Unnamed: 0']\n",
    "del df['Flow ID']\n",
    "del df['Active Mean']\n",
    "del df[' Active Std']\n",
    "del df[' Active Max']\n",
    "del df[' Active Min']\n",
    "del df['Idle Mean']\n",
    "del df[' Idle Std']\n",
    "del df[' Idle Max']\n",
    "del df[' Idle Min']\n",
    "del df[' Timestamp']\n",
    "del df[' Source IP']\n",
    "del df[' Destination IP']\n",
    "df.to_csv('UDP1.csv', index=False) "
   ]
  },
  {
   "cell_type": "code",
   "execution_count": 3,
   "id": "96ce36b6",
   "metadata": {},
   "outputs": [
    {
     "name": "stderr",
     "output_type": "stream",
     "text": [
      "C:\\Users\\chris\\AppData\\Local\\Temp\\ipykernel_3452\\2732454906.py:1: DtypeWarning: Columns (85) have mixed types. Specify dtype option on import or set low_memory=False.\n",
      "  df = pd.read_csv('UDPLag.csv')[0:20000]\n"
     ]
    }
   ],
   "source": [
    "#done\n",
    "df = pd.read_csv('UDPLag.csv')[0:20000]\n",
    "del df['Unnamed: 0']\n",
    "del df['Flow ID']\n",
    "del df['Active Mean']\n",
    "del df[' Active Std']\n",
    "del df[' Active Max']\n",
    "del df[' Active Min']\n",
    "del df['Idle Mean']\n",
    "del df[' Idle Std']\n",
    "del df[' Idle Max']\n",
    "del df[' Idle Min']\n",
    "del df[' Timestamp']\n",
    "del df[' Source IP']\n",
    "del df[' Destination IP']\n",
    "df.to_csv('UDPLag1.csv', index=False) "
   ]
  },
  {
   "cell_type": "code",
   "execution_count": null,
   "id": "9d2953e1",
   "metadata": {},
   "outputs": [],
   "source": []
  }
 ],
 "metadata": {
  "kernelspec": {
   "display_name": "Python 3 (ipykernel)",
   "language": "python",
   "name": "python3"
  },
  "language_info": {
   "codemirror_mode": {
    "name": "ipython",
    "version": 3
   },
   "file_extension": ".py",
   "mimetype": "text/x-python",
   "name": "python",
   "nbconvert_exporter": "python",
   "pygments_lexer": "ipython3",
   "version": "3.9.13"
  },
  "latex_envs": {
   "LaTeX_envs_menu_present": true,
   "autoclose": false,
   "autocomplete": true,
   "bibliofile": "biblio.bib",
   "cite_by": "apalike",
   "current_citInitial": 1,
   "eqLabelWithNumbers": true,
   "eqNumInitial": 1,
   "hotkeys": {
    "equation": "Ctrl-E",
    "itemize": "Ctrl-I"
   },
   "labels_anchors": false,
   "latex_user_defs": false,
   "report_style_numbering": false,
   "user_envs_cfg": false
  }
 },
 "nbformat": 4,
 "nbformat_minor": 5
}
